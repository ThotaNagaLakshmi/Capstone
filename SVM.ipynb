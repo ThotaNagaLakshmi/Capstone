{
 "cells": [
  {
   "cell_type": "code",
   "execution_count": 1,
   "id": "80002a39",
   "metadata": {},
   "outputs": [],
   "source": [
    "import pandas as pd\n",
    "import numpy as np"
   ]
  },
  {
   "cell_type": "code",
   "execution_count": 2,
   "id": "49c247e6",
   "metadata": {},
   "outputs": [],
   "source": [
    "filepath = \"malware_detection_dataset.csv\""
   ]
  },
  {
   "cell_type": "code",
   "execution_count": 3,
   "id": "5db7b65c",
   "metadata": {},
   "outputs": [],
   "source": [
    "df = pd.read_csv(filepath)"
   ]
  },
  {
   "cell_type": "markdown",
   "id": "7cc4f434",
   "metadata": {},
   "source": [
    "### Split the Dataset into X and y"
   ]
  },
  {
   "cell_type": "code",
   "execution_count": 4,
   "id": "7b03aede",
   "metadata": {},
   "outputs": [],
   "source": [
    "X = df.drop('label',axis=1).head(400000)\n",
    "y = df['label'].head(400000)"
   ]
  },
  {
   "cell_type": "code",
   "execution_count": 5,
   "id": "b08b6f2e",
   "metadata": {},
   "outputs": [
    {
     "data": {
      "text/html": [
       "<div>\n",
       "<style scoped>\n",
       "    .dataframe tbody tr th:only-of-type {\n",
       "        vertical-align: middle;\n",
       "    }\n",
       "\n",
       "    .dataframe tbody tr th {\n",
       "        vertical-align: top;\n",
       "    }\n",
       "\n",
       "    .dataframe thead th {\n",
       "        text-align: right;\n",
       "    }\n",
       "</style>\n",
       "<table border=\"1\" class=\"dataframe\">\n",
       "  <thead>\n",
       "    <tr style=\"text-align: right;\">\n",
       "      <th></th>\n",
       "      <th>duration</th>\n",
       "      <th>orig_bytes</th>\n",
       "      <th>resp_bytes</th>\n",
       "      <th>missed_bytes</th>\n",
       "      <th>orig_pkts</th>\n",
       "      <th>orig_ip_bytes</th>\n",
       "      <th>resp_pkts</th>\n",
       "      <th>resp_ip_bytes</th>\n",
       "      <th>proto_icmp</th>\n",
       "      <th>proto_tcp</th>\n",
       "      <th>...</th>\n",
       "      <th>conn_state_RSTOS0</th>\n",
       "      <th>conn_state_RSTR</th>\n",
       "      <th>conn_state_RSTRH</th>\n",
       "      <th>conn_state_S0</th>\n",
       "      <th>conn_state_S1</th>\n",
       "      <th>conn_state_S2</th>\n",
       "      <th>conn_state_S3</th>\n",
       "      <th>conn_state_SF</th>\n",
       "      <th>conn_state_SH</th>\n",
       "      <th>conn_state_SHR</th>\n",
       "    </tr>\n",
       "  </thead>\n",
       "  <tbody>\n",
       "    <tr>\n",
       "      <th>0</th>\n",
       "      <td>0.114184</td>\n",
       "      <td>48.000000</td>\n",
       "      <td>48.0</td>\n",
       "      <td>0</td>\n",
       "      <td>1</td>\n",
       "      <td>76</td>\n",
       "      <td>1</td>\n",
       "      <td>76</td>\n",
       "      <td>0</td>\n",
       "      <td>0</td>\n",
       "      <td>...</td>\n",
       "      <td>0</td>\n",
       "      <td>0</td>\n",
       "      <td>0</td>\n",
       "      <td>0</td>\n",
       "      <td>0</td>\n",
       "      <td>0</td>\n",
       "      <td>0</td>\n",
       "      <td>1</td>\n",
       "      <td>0</td>\n",
       "      <td>0</td>\n",
       "    </tr>\n",
       "    <tr>\n",
       "      <th>1</th>\n",
       "      <td>160.367579</td>\n",
       "      <td>7536.000000</td>\n",
       "      <td>0.0</td>\n",
       "      <td>0</td>\n",
       "      <td>24</td>\n",
       "      <td>8208</td>\n",
       "      <td>0</td>\n",
       "      <td>0</td>\n",
       "      <td>0</td>\n",
       "      <td>0</td>\n",
       "      <td>...</td>\n",
       "      <td>0</td>\n",
       "      <td>0</td>\n",
       "      <td>0</td>\n",
       "      <td>1</td>\n",
       "      <td>0</td>\n",
       "      <td>0</td>\n",
       "      <td>0</td>\n",
       "      <td>0</td>\n",
       "      <td>0</td>\n",
       "      <td>0</td>\n",
       "    </tr>\n",
       "    <tr>\n",
       "      <th>2</th>\n",
       "      <td>0.016986</td>\n",
       "      <td>48.000000</td>\n",
       "      <td>48.0</td>\n",
       "      <td>0</td>\n",
       "      <td>1</td>\n",
       "      <td>76</td>\n",
       "      <td>1</td>\n",
       "      <td>76</td>\n",
       "      <td>0</td>\n",
       "      <td>0</td>\n",
       "      <td>...</td>\n",
       "      <td>0</td>\n",
       "      <td>0</td>\n",
       "      <td>0</td>\n",
       "      <td>0</td>\n",
       "      <td>0</td>\n",
       "      <td>0</td>\n",
       "      <td>0</td>\n",
       "      <td>1</td>\n",
       "      <td>0</td>\n",
       "      <td>0</td>\n",
       "    </tr>\n",
       "    <tr>\n",
       "      <th>3</th>\n",
       "      <td>0.003497</td>\n",
       "      <td>0.000000</td>\n",
       "      <td>0.0</td>\n",
       "      <td>0</td>\n",
       "      <td>5</td>\n",
       "      <td>212</td>\n",
       "      <td>3</td>\n",
       "      <td>144</td>\n",
       "      <td>0</td>\n",
       "      <td>1</td>\n",
       "      <td>...</td>\n",
       "      <td>0</td>\n",
       "      <td>0</td>\n",
       "      <td>0</td>\n",
       "      <td>0</td>\n",
       "      <td>0</td>\n",
       "      <td>0</td>\n",
       "      <td>0</td>\n",
       "      <td>1</td>\n",
       "      <td>0</td>\n",
       "      <td>0</td>\n",
       "    </tr>\n",
       "    <tr>\n",
       "      <th>4</th>\n",
       "      <td>0.036724</td>\n",
       "      <td>34.000000</td>\n",
       "      <td>311.0</td>\n",
       "      <td>0</td>\n",
       "      <td>1</td>\n",
       "      <td>62</td>\n",
       "      <td>1</td>\n",
       "      <td>339</td>\n",
       "      <td>0</td>\n",
       "      <td>0</td>\n",
       "      <td>...</td>\n",
       "      <td>0</td>\n",
       "      <td>0</td>\n",
       "      <td>0</td>\n",
       "      <td>0</td>\n",
       "      <td>0</td>\n",
       "      <td>0</td>\n",
       "      <td>0</td>\n",
       "      <td>1</td>\n",
       "      <td>0</td>\n",
       "      <td>0</td>\n",
       "    </tr>\n",
       "    <tr>\n",
       "      <th>...</th>\n",
       "      <td>...</td>\n",
       "      <td>...</td>\n",
       "      <td>...</td>\n",
       "      <td>...</td>\n",
       "      <td>...</td>\n",
       "      <td>...</td>\n",
       "      <td>...</td>\n",
       "      <td>...</td>\n",
       "      <td>...</td>\n",
       "      <td>...</td>\n",
       "      <td>...</td>\n",
       "      <td>...</td>\n",
       "      <td>...</td>\n",
       "      <td>...</td>\n",
       "      <td>...</td>\n",
       "      <td>...</td>\n",
       "      <td>...</td>\n",
       "      <td>...</td>\n",
       "      <td>...</td>\n",
       "      <td>...</td>\n",
       "      <td>...</td>\n",
       "    </tr>\n",
       "    <tr>\n",
       "      <th>399995</th>\n",
       "      <td>14.659356</td>\n",
       "      <td>156.959688</td>\n",
       "      <td>0.0</td>\n",
       "      <td>0</td>\n",
       "      <td>1</td>\n",
       "      <td>40</td>\n",
       "      <td>0</td>\n",
       "      <td>0</td>\n",
       "      <td>0</td>\n",
       "      <td>1</td>\n",
       "      <td>...</td>\n",
       "      <td>0</td>\n",
       "      <td>0</td>\n",
       "      <td>0</td>\n",
       "      <td>1</td>\n",
       "      <td>0</td>\n",
       "      <td>0</td>\n",
       "      <td>0</td>\n",
       "      <td>0</td>\n",
       "      <td>0</td>\n",
       "      <td>0</td>\n",
       "    </tr>\n",
       "    <tr>\n",
       "      <th>399996</th>\n",
       "      <td>14.619064</td>\n",
       "      <td>156.624187</td>\n",
       "      <td>0.0</td>\n",
       "      <td>0</td>\n",
       "      <td>1</td>\n",
       "      <td>40</td>\n",
       "      <td>0</td>\n",
       "      <td>0</td>\n",
       "      <td>0</td>\n",
       "      <td>1</td>\n",
       "      <td>...</td>\n",
       "      <td>0</td>\n",
       "      <td>0</td>\n",
       "      <td>0</td>\n",
       "      <td>1</td>\n",
       "      <td>0</td>\n",
       "      <td>0</td>\n",
       "      <td>0</td>\n",
       "      <td>0</td>\n",
       "      <td>0</td>\n",
       "      <td>0</td>\n",
       "    </tr>\n",
       "    <tr>\n",
       "      <th>399997</th>\n",
       "      <td>14.578772</td>\n",
       "      <td>156.288687</td>\n",
       "      <td>0.0</td>\n",
       "      <td>0</td>\n",
       "      <td>1</td>\n",
       "      <td>40</td>\n",
       "      <td>0</td>\n",
       "      <td>0</td>\n",
       "      <td>0</td>\n",
       "      <td>1</td>\n",
       "      <td>...</td>\n",
       "      <td>0</td>\n",
       "      <td>0</td>\n",
       "      <td>0</td>\n",
       "      <td>1</td>\n",
       "      <td>0</td>\n",
       "      <td>0</td>\n",
       "      <td>0</td>\n",
       "      <td>0</td>\n",
       "      <td>0</td>\n",
       "      <td>0</td>\n",
       "    </tr>\n",
       "    <tr>\n",
       "      <th>399998</th>\n",
       "      <td>14.538481</td>\n",
       "      <td>155.953186</td>\n",
       "      <td>0.0</td>\n",
       "      <td>0</td>\n",
       "      <td>1</td>\n",
       "      <td>40</td>\n",
       "      <td>0</td>\n",
       "      <td>0</td>\n",
       "      <td>0</td>\n",
       "      <td>1</td>\n",
       "      <td>...</td>\n",
       "      <td>0</td>\n",
       "      <td>0</td>\n",
       "      <td>0</td>\n",
       "      <td>1</td>\n",
       "      <td>0</td>\n",
       "      <td>0</td>\n",
       "      <td>0</td>\n",
       "      <td>0</td>\n",
       "      <td>0</td>\n",
       "      <td>0</td>\n",
       "    </tr>\n",
       "    <tr>\n",
       "      <th>399999</th>\n",
       "      <td>14.498189</td>\n",
       "      <td>155.617685</td>\n",
       "      <td>0.0</td>\n",
       "      <td>0</td>\n",
       "      <td>1</td>\n",
       "      <td>40</td>\n",
       "      <td>0</td>\n",
       "      <td>0</td>\n",
       "      <td>0</td>\n",
       "      <td>1</td>\n",
       "      <td>...</td>\n",
       "      <td>0</td>\n",
       "      <td>0</td>\n",
       "      <td>0</td>\n",
       "      <td>1</td>\n",
       "      <td>0</td>\n",
       "      <td>0</td>\n",
       "      <td>0</td>\n",
       "      <td>0</td>\n",
       "      <td>0</td>\n",
       "      <td>0</td>\n",
       "    </tr>\n",
       "  </tbody>\n",
       "</table>\n",
       "<p>400000 rows × 24 columns</p>\n",
       "</div>"
      ],
      "text/plain": [
       "          duration   orig_bytes  resp_bytes  missed_bytes  orig_pkts  \\\n",
       "0         0.114184    48.000000        48.0             0          1   \n",
       "1       160.367579  7536.000000         0.0             0         24   \n",
       "2         0.016986    48.000000        48.0             0          1   \n",
       "3         0.003497     0.000000         0.0             0          5   \n",
       "4         0.036724    34.000000       311.0             0          1   \n",
       "...            ...          ...         ...           ...        ...   \n",
       "399995   14.659356   156.959688         0.0             0          1   \n",
       "399996   14.619064   156.624187         0.0             0          1   \n",
       "399997   14.578772   156.288687         0.0             0          1   \n",
       "399998   14.538481   155.953186         0.0             0          1   \n",
       "399999   14.498189   155.617685         0.0             0          1   \n",
       "\n",
       "        orig_ip_bytes  resp_pkts  resp_ip_bytes  proto_icmp  proto_tcp  ...  \\\n",
       "0                  76          1             76           0          0  ...   \n",
       "1                8208          0              0           0          0  ...   \n",
       "2                  76          1             76           0          0  ...   \n",
       "3                 212          3            144           0          1  ...   \n",
       "4                  62          1            339           0          0  ...   \n",
       "...               ...        ...            ...         ...        ...  ...   \n",
       "399995             40          0              0           0          1  ...   \n",
       "399996             40          0              0           0          1  ...   \n",
       "399997             40          0              0           0          1  ...   \n",
       "399998             40          0              0           0          1  ...   \n",
       "399999             40          0              0           0          1  ...   \n",
       "\n",
       "        conn_state_RSTOS0  conn_state_RSTR  conn_state_RSTRH  conn_state_S0  \\\n",
       "0                       0                0                 0              0   \n",
       "1                       0                0                 0              1   \n",
       "2                       0                0                 0              0   \n",
       "3                       0                0                 0              0   \n",
       "4                       0                0                 0              0   \n",
       "...                   ...              ...               ...            ...   \n",
       "399995                  0                0                 0              1   \n",
       "399996                  0                0                 0              1   \n",
       "399997                  0                0                 0              1   \n",
       "399998                  0                0                 0              1   \n",
       "399999                  0                0                 0              1   \n",
       "\n",
       "        conn_state_S1  conn_state_S2  conn_state_S3  conn_state_SF  \\\n",
       "0                   0              0              0              1   \n",
       "1                   0              0              0              0   \n",
       "2                   0              0              0              1   \n",
       "3                   0              0              0              1   \n",
       "4                   0              0              0              1   \n",
       "...               ...            ...            ...            ...   \n",
       "399995              0              0              0              0   \n",
       "399996              0              0              0              0   \n",
       "399997              0              0              0              0   \n",
       "399998              0              0              0              0   \n",
       "399999              0              0              0              0   \n",
       "\n",
       "        conn_state_SH  conn_state_SHR  \n",
       "0                   0               0  \n",
       "1                   0               0  \n",
       "2                   0               0  \n",
       "3                   0               0  \n",
       "4                   0               0  \n",
       "...               ...             ...  \n",
       "399995              0               0  \n",
       "399996              0               0  \n",
       "399997              0               0  \n",
       "399998              0               0  \n",
       "399999              0               0  \n",
       "\n",
       "[400000 rows x 24 columns]"
      ]
     },
     "execution_count": 5,
     "metadata": {},
     "output_type": "execute_result"
    }
   ],
   "source": [
    "X"
   ]
  },
  {
   "cell_type": "code",
   "execution_count": 6,
   "id": "bbce9de9",
   "metadata": {},
   "outputs": [
    {
     "data": {
      "text/plain": [
       "0                            benign\n",
       "1                            benign\n",
       "2                            benign\n",
       "3                            benign\n",
       "4                            benign\n",
       "                    ...            \n",
       "399995    PartOfAHorizontalPortScan\n",
       "399996    PartOfAHorizontalPortScan\n",
       "399997    PartOfAHorizontalPortScan\n",
       "399998    PartOfAHorizontalPortScan\n",
       "399999    PartOfAHorizontalPortScan\n",
       "Name: label, Length: 400000, dtype: object"
      ]
     },
     "execution_count": 6,
     "metadata": {},
     "output_type": "execute_result"
    }
   ],
   "source": [
    "y"
   ]
  },
  {
   "cell_type": "markdown",
   "id": "187f0551",
   "metadata": {},
   "source": [
    "### Splitting the X and y Dataset into the Training set and Test set"
   ]
  },
  {
   "cell_type": "code",
   "execution_count": 7,
   "id": "9c5712d5",
   "metadata": {},
   "outputs": [],
   "source": [
    "from sklearn.model_selection import train_test_split\n",
    "X_train, X_test, y_train, y_test = train_test_split(X, y, test_size = 0.20, random_state = 1)"
   ]
  },
  {
   "cell_type": "code",
   "execution_count": 8,
   "id": "6e47f77c",
   "metadata": {},
   "outputs": [
    {
     "data": {
      "text/plain": [
       "164217    PartOfAHorizontalPortScan\n",
       "136326    PartOfAHorizontalPortScan\n",
       "139035    PartOfAHorizontalPortScan\n",
       "184089    PartOfAHorizontalPortScan\n",
       "49577     PartOfAHorizontalPortScan\n",
       "                    ...            \n",
       "356732    PartOfAHorizontalPortScan\n",
       "298300                        Okiru\n",
       "342305    PartOfAHorizontalPortScan\n",
       "246290                        Okiru\n",
       "259816                        Okiru\n",
       "Name: label, Length: 80000, dtype: object"
      ]
     },
     "execution_count": 8,
     "metadata": {},
     "output_type": "execute_result"
    }
   ],
   "source": [
    "y_test"
   ]
  },
  {
   "cell_type": "code",
   "execution_count": 9,
   "id": "b2bf0f8d",
   "metadata": {},
   "outputs": [
    {
     "name": "stdout",
     "output_type": "stream",
     "text": [
      "(320000, 24)\n",
      "(80000, 24)\n",
      "(320000,)\n",
      "(80000,)\n"
     ]
    }
   ],
   "source": [
    "print(X_train.shape)\n",
    "print(X_test.shape)\n",
    "print(y_train.shape)\n",
    "print(y_test.shape)"
   ]
  },
  {
   "cell_type": "markdown",
   "id": "eb0867db",
   "metadata": {},
   "source": [
    "### Feature Scaling"
   ]
  },
  {
   "cell_type": "code",
   "execution_count": 11,
   "id": "0e82c54a",
   "metadata": {},
   "outputs": [],
   "source": [
    "from sklearn.preprocessing import StandardScaler\n",
    "sc = StandardScaler()\n",
    "X_train = sc.fit_transform(X_train)\n",
    "X_test = sc.transform(X_test)"
   ]
  },
  {
   "cell_type": "code",
   "execution_count": 12,
   "id": "a651ff7a",
   "metadata": {},
   "outputs": [],
   "source": [
    "import timeit\n",
    "start = timeit.default_timer()"
   ]
  },
  {
   "cell_type": "code",
   "execution_count": 13,
   "id": "3074496f",
   "metadata": {},
   "outputs": [
    {
     "name": "stdout",
     "output_type": "stream",
     "text": [
      "[LibSVM]"
     ]
    },
    {
     "data": {
      "text/plain": [
       "SVC(cache_size=1500, random_state=0, verbose=True)"
      ]
     },
     "execution_count": 13,
     "metadata": {},
     "output_type": "execute_result"
    }
   ],
   "source": [
    "#Fit SVM to the Training set\n",
    "from sklearn.svm import SVC\n",
    "svm_clf = SVC(random_state = 0, C=1.0, cache_size=1500, verbose = True) # Create SVM classifier object\n",
    "svm_clf.fit(X_train, y_train) # Train SVM Classifier"
   ]
  },
  {
   "cell_type": "code",
   "execution_count": 14,
   "id": "a9e86e6a",
   "metadata": {},
   "outputs": [
    {
     "name": "stdout",
     "output_type": "stream",
     "text": [
      "total runtime of the program is:  15302.785966899999 seconds\n"
     ]
    }
   ],
   "source": [
    "end = timeit.default_timer()\n",
    "print(\"total runtime of the program is: \",end-start,'seconds')"
   ]
  },
  {
   "cell_type": "code",
   "execution_count": 15,
   "id": "9f885df8",
   "metadata": {},
   "outputs": [],
   "source": [
    "### Predicting the test results\n",
    "svm_pred = svm_clf.predict(X_test)   #y_predict"
   ]
  },
  {
   "cell_type": "code",
   "execution_count": 16,
   "id": "e7888c41",
   "metadata": {},
   "outputs": [
    {
     "data": {
      "text/plain": [
       "array(['PartOfAHorizontalPortScan', 'PartOfAHorizontalPortScan',\n",
       "       'PartOfAHorizontalPortScan', ..., 'PartOfAHorizontalPortScan',\n",
       "       'PartOfAHorizontalPortScan', 'PartOfAHorizontalPortScan'],\n",
       "      dtype=object)"
      ]
     },
     "execution_count": 16,
     "metadata": {},
     "output_type": "execute_result"
    }
   ],
   "source": [
    "svm_pred"
   ]
  },
  {
   "cell_type": "code",
   "execution_count": 17,
   "id": "09e2705e",
   "metadata": {},
   "outputs": [
    {
     "name": "stdout",
     "output_type": "stream",
     "text": [
      "\n",
      "total runtime of the program is:  19697.4052581 seconds\n"
     ]
    }
   ],
   "source": [
    "print()\n",
    "end = timeit.default_timer()\n",
    "print(\"total runtime of the program is: \",end-start,'seconds')"
   ]
  },
  {
   "cell_type": "code",
   "execution_count": 18,
   "id": "f792c017",
   "metadata": {},
   "outputs": [
    {
     "name": "stdout",
     "output_type": "stream",
     "text": [
      "[[  777     0     0     0     0     0]\n",
      " [    0     0     0     0  1687     3]\n",
      " [    0     0     0     0     7    14]\n",
      " [    0     0     0     0 19890    25]\n",
      " [  218     0     0     0 46590   110]\n",
      " [   59     0     0     0   859  9761]]\n"
     ]
    }
   ],
   "source": [
    "##Confusion matrix\n",
    "from sklearn.metrics import confusion_matrix\n",
    "cm = confusion_matrix(y_test, svm_pred)\n",
    "print(cm)"
   ]
  },
  {
   "cell_type": "code",
   "execution_count": 19,
   "id": "ad6b84a1",
   "metadata": {},
   "outputs": [
    {
     "name": "stdout",
     "output_type": "stream",
     "text": [
      "                           precision    recall  f1-score   support\n",
      "\n",
      "                   Attack       0.74      1.00      0.85       777\n",
      "                      C&C       0.00      0.00      0.00      1690\n",
      "            C&C-HeartBeat       0.00      0.00      0.00        21\n",
      "                    Okiru       0.00      0.00      0.00     19915\n",
      "PartOfAHorizontalPortScan       0.67      0.99      0.80     46918\n",
      "                   benign       0.98      0.91      0.95     10679\n",
      "\n",
      "                 accuracy                           0.71     80000\n",
      "                macro avg       0.40      0.48      0.43     80000\n",
      "             weighted avg       0.53      0.71      0.61     80000\n",
      "\n"
     ]
    }
   ],
   "source": [
    "### Final Results\n",
    "from sklearn.metrics import classification_report\n",
    "print(classification_report(y_test,svm_pred,zero_division=0))"
   ]
  },
  {
   "cell_type": "code",
   "execution_count": 20,
   "id": "697b17b1",
   "metadata": {},
   "outputs": [
    {
     "data": {
      "text/plain": [
       "0.7141"
      ]
     },
     "execution_count": 20,
     "metadata": {},
     "output_type": "execute_result"
    }
   ],
   "source": [
    "from sklearn.metrics import accuracy_score\n",
    "accuracy_score(y_test, svm_pred)\n"
   ]
  },
  {
   "cell_type": "code",
   "execution_count": null,
   "id": "f2ad3d86",
   "metadata": {},
   "outputs": [],
   "source": []
  },
  {
   "cell_type": "code",
   "execution_count": null,
   "id": "e4b72b65",
   "metadata": {},
   "outputs": [],
   "source": []
  },
  {
   "cell_type": "code",
   "execution_count": null,
   "id": "b391dd2a",
   "metadata": {},
   "outputs": [],
   "source": []
  }
 ],
 "metadata": {
  "kernelspec": {
   "display_name": "Python 3 (ipykernel)",
   "language": "python",
   "name": "python3"
  },
  "language_info": {
   "codemirror_mode": {
    "name": "ipython",
    "version": 3
   },
   "file_extension": ".py",
   "mimetype": "text/x-python",
   "name": "python",
   "nbconvert_exporter": "python",
   "pygments_lexer": "ipython3",
   "version": "3.9.7"
  }
 },
 "nbformat": 4,
 "nbformat_minor": 5
}
