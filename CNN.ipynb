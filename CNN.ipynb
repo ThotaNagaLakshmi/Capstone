{
 "cells": [
  {
   "cell_type": "markdown",
   "id": "c56330ea",
   "metadata": {},
   "source": [
    "### Importing Libraries and loading dataset:"
   ]
  },
  {
   "cell_type": "code",
   "execution_count": 2,
   "id": "80002a39",
   "metadata": {},
   "outputs": [],
   "source": [
    "import pandas as pd\n",
    "import numpy as np"
   ]
  },
  {
   "cell_type": "code",
   "execution_count": 3,
   "id": "8393e9dd",
   "metadata": {},
   "outputs": [],
   "source": [
    "filepath = \"malware_detection_dataset.csv\""
   ]
  },
  {
   "cell_type": "code",
   "execution_count": 4,
   "id": "eae75a23",
   "metadata": {},
   "outputs": [],
   "source": [
    "df = pd.read_csv(filepath)"
   ]
  },
  {
   "cell_type": "markdown",
   "id": "cc673974",
   "metadata": {},
   "source": [
    "### Split the Dataset into X and y"
   ]
  },
  {
   "cell_type": "code",
   "execution_count": 6,
   "id": "32be8c18",
   "metadata": {},
   "outputs": [],
   "source": [
    "X = df.drop('label',axis=1)\n",
    "y = df['label']"
   ]
  },
  {
   "cell_type": "code",
   "execution_count": 7,
   "id": "f62a1e33",
   "metadata": {},
   "outputs": [
    {
     "data": {
      "text/html": [
       "<div>\n",
       "<style scoped>\n",
       "    .dataframe tbody tr th:only-of-type {\n",
       "        vertical-align: middle;\n",
       "    }\n",
       "\n",
       "    .dataframe tbody tr th {\n",
       "        vertical-align: top;\n",
       "    }\n",
       "\n",
       "    .dataframe thead th {\n",
       "        text-align: right;\n",
       "    }\n",
       "</style>\n",
       "<table border=\"1\" class=\"dataframe\">\n",
       "  <thead>\n",
       "    <tr style=\"text-align: right;\">\n",
       "      <th></th>\n",
       "      <th>duration</th>\n",
       "      <th>orig_bytes</th>\n",
       "      <th>resp_bytes</th>\n",
       "      <th>missed_bytes</th>\n",
       "      <th>orig_pkts</th>\n",
       "      <th>orig_ip_bytes</th>\n",
       "      <th>resp_pkts</th>\n",
       "      <th>resp_ip_bytes</th>\n",
       "      <th>proto_icmp</th>\n",
       "      <th>proto_tcp</th>\n",
       "      <th>...</th>\n",
       "      <th>conn_state_RSTOS0</th>\n",
       "      <th>conn_state_RSTR</th>\n",
       "      <th>conn_state_RSTRH</th>\n",
       "      <th>conn_state_S0</th>\n",
       "      <th>conn_state_S1</th>\n",
       "      <th>conn_state_S2</th>\n",
       "      <th>conn_state_S3</th>\n",
       "      <th>conn_state_SF</th>\n",
       "      <th>conn_state_SH</th>\n",
       "      <th>conn_state_SHR</th>\n",
       "    </tr>\n",
       "  </thead>\n",
       "  <tbody>\n",
       "    <tr>\n",
       "      <th>0</th>\n",
       "      <td>0.114184</td>\n",
       "      <td>48.0</td>\n",
       "      <td>48.0</td>\n",
       "      <td>0</td>\n",
       "      <td>1</td>\n",
       "      <td>76</td>\n",
       "      <td>1</td>\n",
       "      <td>76</td>\n",
       "      <td>0</td>\n",
       "      <td>0</td>\n",
       "      <td>...</td>\n",
       "      <td>0</td>\n",
       "      <td>0</td>\n",
       "      <td>0</td>\n",
       "      <td>0</td>\n",
       "      <td>0</td>\n",
       "      <td>0</td>\n",
       "      <td>0</td>\n",
       "      <td>1</td>\n",
       "      <td>0</td>\n",
       "      <td>0</td>\n",
       "    </tr>\n",
       "    <tr>\n",
       "      <th>1</th>\n",
       "      <td>160.367579</td>\n",
       "      <td>7536.0</td>\n",
       "      <td>0.0</td>\n",
       "      <td>0</td>\n",
       "      <td>24</td>\n",
       "      <td>8208</td>\n",
       "      <td>0</td>\n",
       "      <td>0</td>\n",
       "      <td>0</td>\n",
       "      <td>0</td>\n",
       "      <td>...</td>\n",
       "      <td>0</td>\n",
       "      <td>0</td>\n",
       "      <td>0</td>\n",
       "      <td>1</td>\n",
       "      <td>0</td>\n",
       "      <td>0</td>\n",
       "      <td>0</td>\n",
       "      <td>0</td>\n",
       "      <td>0</td>\n",
       "      <td>0</td>\n",
       "    </tr>\n",
       "    <tr>\n",
       "      <th>2</th>\n",
       "      <td>0.016986</td>\n",
       "      <td>48.0</td>\n",
       "      <td>48.0</td>\n",
       "      <td>0</td>\n",
       "      <td>1</td>\n",
       "      <td>76</td>\n",
       "      <td>1</td>\n",
       "      <td>76</td>\n",
       "      <td>0</td>\n",
       "      <td>0</td>\n",
       "      <td>...</td>\n",
       "      <td>0</td>\n",
       "      <td>0</td>\n",
       "      <td>0</td>\n",
       "      <td>0</td>\n",
       "      <td>0</td>\n",
       "      <td>0</td>\n",
       "      <td>0</td>\n",
       "      <td>1</td>\n",
       "      <td>0</td>\n",
       "      <td>0</td>\n",
       "    </tr>\n",
       "    <tr>\n",
       "      <th>3</th>\n",
       "      <td>0.003497</td>\n",
       "      <td>0.0</td>\n",
       "      <td>0.0</td>\n",
       "      <td>0</td>\n",
       "      <td>5</td>\n",
       "      <td>212</td>\n",
       "      <td>3</td>\n",
       "      <td>144</td>\n",
       "      <td>0</td>\n",
       "      <td>1</td>\n",
       "      <td>...</td>\n",
       "      <td>0</td>\n",
       "      <td>0</td>\n",
       "      <td>0</td>\n",
       "      <td>0</td>\n",
       "      <td>0</td>\n",
       "      <td>0</td>\n",
       "      <td>0</td>\n",
       "      <td>1</td>\n",
       "      <td>0</td>\n",
       "      <td>0</td>\n",
       "    </tr>\n",
       "    <tr>\n",
       "      <th>4</th>\n",
       "      <td>0.036724</td>\n",
       "      <td>34.0</td>\n",
       "      <td>311.0</td>\n",
       "      <td>0</td>\n",
       "      <td>1</td>\n",
       "      <td>62</td>\n",
       "      <td>1</td>\n",
       "      <td>339</td>\n",
       "      <td>0</td>\n",
       "      <td>0</td>\n",
       "      <td>...</td>\n",
       "      <td>0</td>\n",
       "      <td>0</td>\n",
       "      <td>0</td>\n",
       "      <td>0</td>\n",
       "      <td>0</td>\n",
       "      <td>0</td>\n",
       "      <td>0</td>\n",
       "      <td>1</td>\n",
       "      <td>0</td>\n",
       "      <td>0</td>\n",
       "    </tr>\n",
       "    <tr>\n",
       "      <th>...</th>\n",
       "      <td>...</td>\n",
       "      <td>...</td>\n",
       "      <td>...</td>\n",
       "      <td>...</td>\n",
       "      <td>...</td>\n",
       "      <td>...</td>\n",
       "      <td>...</td>\n",
       "      <td>...</td>\n",
       "      <td>...</td>\n",
       "      <td>...</td>\n",
       "      <td>...</td>\n",
       "      <td>...</td>\n",
       "      <td>...</td>\n",
       "      <td>...</td>\n",
       "      <td>...</td>\n",
       "      <td>...</td>\n",
       "      <td>...</td>\n",
       "      <td>...</td>\n",
       "      <td>...</td>\n",
       "      <td>...</td>\n",
       "      <td>...</td>\n",
       "    </tr>\n",
       "    <tr>\n",
       "      <th>1046906</th>\n",
       "      <td>0.012744</td>\n",
       "      <td>96.0</td>\n",
       "      <td>96.0</td>\n",
       "      <td>0</td>\n",
       "      <td>0</td>\n",
       "      <td>0</td>\n",
       "      <td>0</td>\n",
       "      <td>0</td>\n",
       "      <td>0</td>\n",
       "      <td>1</td>\n",
       "      <td>...</td>\n",
       "      <td>0</td>\n",
       "      <td>0</td>\n",
       "      <td>0</td>\n",
       "      <td>0</td>\n",
       "      <td>0</td>\n",
       "      <td>0</td>\n",
       "      <td>0</td>\n",
       "      <td>0</td>\n",
       "      <td>0</td>\n",
       "      <td>0</td>\n",
       "    </tr>\n",
       "    <tr>\n",
       "      <th>1046907</th>\n",
       "      <td>0.012744</td>\n",
       "      <td>96.0</td>\n",
       "      <td>96.0</td>\n",
       "      <td>0</td>\n",
       "      <td>0</td>\n",
       "      <td>0</td>\n",
       "      <td>0</td>\n",
       "      <td>0</td>\n",
       "      <td>0</td>\n",
       "      <td>1</td>\n",
       "      <td>...</td>\n",
       "      <td>0</td>\n",
       "      <td>0</td>\n",
       "      <td>0</td>\n",
       "      <td>0</td>\n",
       "      <td>0</td>\n",
       "      <td>0</td>\n",
       "      <td>0</td>\n",
       "      <td>0</td>\n",
       "      <td>0</td>\n",
       "      <td>0</td>\n",
       "    </tr>\n",
       "    <tr>\n",
       "      <th>1046908</th>\n",
       "      <td>0.012744</td>\n",
       "      <td>96.0</td>\n",
       "      <td>96.0</td>\n",
       "      <td>0</td>\n",
       "      <td>0</td>\n",
       "      <td>0</td>\n",
       "      <td>0</td>\n",
       "      <td>0</td>\n",
       "      <td>0</td>\n",
       "      <td>1</td>\n",
       "      <td>...</td>\n",
       "      <td>0</td>\n",
       "      <td>0</td>\n",
       "      <td>0</td>\n",
       "      <td>0</td>\n",
       "      <td>0</td>\n",
       "      <td>0</td>\n",
       "      <td>0</td>\n",
       "      <td>0</td>\n",
       "      <td>0</td>\n",
       "      <td>0</td>\n",
       "    </tr>\n",
       "    <tr>\n",
       "      <th>1046909</th>\n",
       "      <td>0.012744</td>\n",
       "      <td>96.0</td>\n",
       "      <td>96.0</td>\n",
       "      <td>0</td>\n",
       "      <td>0</td>\n",
       "      <td>0</td>\n",
       "      <td>0</td>\n",
       "      <td>0</td>\n",
       "      <td>0</td>\n",
       "      <td>1</td>\n",
       "      <td>...</td>\n",
       "      <td>0</td>\n",
       "      <td>0</td>\n",
       "      <td>0</td>\n",
       "      <td>0</td>\n",
       "      <td>0</td>\n",
       "      <td>0</td>\n",
       "      <td>0</td>\n",
       "      <td>0</td>\n",
       "      <td>0</td>\n",
       "      <td>0</td>\n",
       "    </tr>\n",
       "    <tr>\n",
       "      <th>1046910</th>\n",
       "      <td>0.012744</td>\n",
       "      <td>96.0</td>\n",
       "      <td>96.0</td>\n",
       "      <td>0</td>\n",
       "      <td>0</td>\n",
       "      <td>0</td>\n",
       "      <td>0</td>\n",
       "      <td>0</td>\n",
       "      <td>0</td>\n",
       "      <td>1</td>\n",
       "      <td>...</td>\n",
       "      <td>0</td>\n",
       "      <td>0</td>\n",
       "      <td>0</td>\n",
       "      <td>0</td>\n",
       "      <td>0</td>\n",
       "      <td>0</td>\n",
       "      <td>0</td>\n",
       "      <td>0</td>\n",
       "      <td>0</td>\n",
       "      <td>0</td>\n",
       "    </tr>\n",
       "  </tbody>\n",
       "</table>\n",
       "<p>1046911 rows × 24 columns</p>\n",
       "</div>"
      ],
      "text/plain": [
       "           duration  orig_bytes  resp_bytes  missed_bytes  orig_pkts  \\\n",
       "0          0.114184        48.0        48.0             0          1   \n",
       "1        160.367579      7536.0         0.0             0         24   \n",
       "2          0.016986        48.0        48.0             0          1   \n",
       "3          0.003497         0.0         0.0             0          5   \n",
       "4          0.036724        34.0       311.0             0          1   \n",
       "...             ...         ...         ...           ...        ...   \n",
       "1046906    0.012744        96.0        96.0             0          0   \n",
       "1046907    0.012744        96.0        96.0             0          0   \n",
       "1046908    0.012744        96.0        96.0             0          0   \n",
       "1046909    0.012744        96.0        96.0             0          0   \n",
       "1046910    0.012744        96.0        96.0             0          0   \n",
       "\n",
       "         orig_ip_bytes  resp_pkts  resp_ip_bytes  proto_icmp  proto_tcp  ...  \\\n",
       "0                   76          1             76           0          0  ...   \n",
       "1                 8208          0              0           0          0  ...   \n",
       "2                   76          1             76           0          0  ...   \n",
       "3                  212          3            144           0          1  ...   \n",
       "4                   62          1            339           0          0  ...   \n",
       "...                ...        ...            ...         ...        ...  ...   \n",
       "1046906              0          0              0           0          1  ...   \n",
       "1046907              0          0              0           0          1  ...   \n",
       "1046908              0          0              0           0          1  ...   \n",
       "1046909              0          0              0           0          1  ...   \n",
       "1046910              0          0              0           0          1  ...   \n",
       "\n",
       "         conn_state_RSTOS0  conn_state_RSTR  conn_state_RSTRH  conn_state_S0  \\\n",
       "0                        0                0                 0              0   \n",
       "1                        0                0                 0              1   \n",
       "2                        0                0                 0              0   \n",
       "3                        0                0                 0              0   \n",
       "4                        0                0                 0              0   \n",
       "...                    ...              ...               ...            ...   \n",
       "1046906                  0                0                 0              0   \n",
       "1046907                  0                0                 0              0   \n",
       "1046908                  0                0                 0              0   \n",
       "1046909                  0                0                 0              0   \n",
       "1046910                  0                0                 0              0   \n",
       "\n",
       "         conn_state_S1  conn_state_S2  conn_state_S3  conn_state_SF  \\\n",
       "0                    0              0              0              1   \n",
       "1                    0              0              0              0   \n",
       "2                    0              0              0              1   \n",
       "3                    0              0              0              1   \n",
       "4                    0              0              0              1   \n",
       "...                ...            ...            ...            ...   \n",
       "1046906              0              0              0              0   \n",
       "1046907              0              0              0              0   \n",
       "1046908              0              0              0              0   \n",
       "1046909              0              0              0              0   \n",
       "1046910              0              0              0              0   \n",
       "\n",
       "         conn_state_SH  conn_state_SHR  \n",
       "0                    0               0  \n",
       "1                    0               0  \n",
       "2                    0               0  \n",
       "3                    0               0  \n",
       "4                    0               0  \n",
       "...                ...             ...  \n",
       "1046906              0               0  \n",
       "1046907              0               0  \n",
       "1046908              0               0  \n",
       "1046909              0               0  \n",
       "1046910              0               0  \n",
       "\n",
       "[1046911 rows x 24 columns]"
      ]
     },
     "execution_count": 7,
     "metadata": {},
     "output_type": "execute_result"
    }
   ],
   "source": [
    "X"
   ]
  },
  {
   "cell_type": "code",
   "execution_count": 8,
   "id": "f3d628e2",
   "metadata": {},
   "outputs": [
    {
     "data": {
      "text/plain": [
       "0          benign\n",
       "1          benign\n",
       "2          benign\n",
       "3          benign\n",
       "4          benign\n",
       "            ...  \n",
       "1046906      DDoS\n",
       "1046907      DDoS\n",
       "1046908      DDoS\n",
       "1046909      DDoS\n",
       "1046910      DDoS\n",
       "Name: label, Length: 1046911, dtype: object"
      ]
     },
     "execution_count": 8,
     "metadata": {},
     "output_type": "execute_result"
    }
   ],
   "source": [
    "y"
   ]
  },
  {
   "cell_type": "code",
   "execution_count": 9,
   "id": "76e8189a",
   "metadata": {},
   "outputs": [
    {
     "data": {
      "text/plain": [
       "PartOfAHorizontalPortScan     546802\n",
       "Okiru                         199547\n",
       "benign                        167208\n",
       "DDoS                          113977\n",
       "C&C                            15060\n",
       "Attack                          3916\n",
       "C&C-HeartBeat                    324\n",
       "C&C-Torii                         30\n",
       "C&C-FileDownload                  28\n",
       "FileDownload                      12\n",
       "C&C-HeartBeat-FileDownload         6\n",
       "C&C-Mirai                          1\n",
       "Name: label, dtype: int64"
      ]
     },
     "execution_count": 9,
     "metadata": {},
     "output_type": "execute_result"
    }
   ],
   "source": [
    "y.value_counts()"
   ]
  },
  {
   "cell_type": "markdown",
   "id": "bce092b3",
   "metadata": {},
   "source": [
    "###  Dummy values for label:"
   ]
  },
  {
   "cell_type": "code",
   "execution_count": 12,
   "id": "ab390f8e",
   "metadata": {},
   "outputs": [],
   "source": [
    "y=pd.get_dummies(df['label'])"
   ]
  },
  {
   "cell_type": "code",
   "execution_count": 13,
   "id": "dd1f0ff0",
   "metadata": {},
   "outputs": [
    {
     "data": {
      "text/html": [
       "<div>\n",
       "<style scoped>\n",
       "    .dataframe tbody tr th:only-of-type {\n",
       "        vertical-align: middle;\n",
       "    }\n",
       "\n",
       "    .dataframe tbody tr th {\n",
       "        vertical-align: top;\n",
       "    }\n",
       "\n",
       "    .dataframe thead th {\n",
       "        text-align: right;\n",
       "    }\n",
       "</style>\n",
       "<table border=\"1\" class=\"dataframe\">\n",
       "  <thead>\n",
       "    <tr style=\"text-align: right;\">\n",
       "      <th></th>\n",
       "      <th>Attack</th>\n",
       "      <th>C&amp;C</th>\n",
       "      <th>C&amp;C-FileDownload</th>\n",
       "      <th>C&amp;C-HeartBeat</th>\n",
       "      <th>C&amp;C-HeartBeat-FileDownload</th>\n",
       "      <th>C&amp;C-Mirai</th>\n",
       "      <th>C&amp;C-Torii</th>\n",
       "      <th>DDoS</th>\n",
       "      <th>FileDownload</th>\n",
       "      <th>Okiru</th>\n",
       "      <th>PartOfAHorizontalPortScan</th>\n",
       "      <th>benign</th>\n",
       "    </tr>\n",
       "  </thead>\n",
       "  <tbody>\n",
       "    <tr>\n",
       "      <th>0</th>\n",
       "      <td>0</td>\n",
       "      <td>0</td>\n",
       "      <td>0</td>\n",
       "      <td>0</td>\n",
       "      <td>0</td>\n",
       "      <td>0</td>\n",
       "      <td>0</td>\n",
       "      <td>0</td>\n",
       "      <td>0</td>\n",
       "      <td>0</td>\n",
       "      <td>0</td>\n",
       "      <td>1</td>\n",
       "    </tr>\n",
       "    <tr>\n",
       "      <th>1</th>\n",
       "      <td>0</td>\n",
       "      <td>0</td>\n",
       "      <td>0</td>\n",
       "      <td>0</td>\n",
       "      <td>0</td>\n",
       "      <td>0</td>\n",
       "      <td>0</td>\n",
       "      <td>0</td>\n",
       "      <td>0</td>\n",
       "      <td>0</td>\n",
       "      <td>0</td>\n",
       "      <td>1</td>\n",
       "    </tr>\n",
       "    <tr>\n",
       "      <th>2</th>\n",
       "      <td>0</td>\n",
       "      <td>0</td>\n",
       "      <td>0</td>\n",
       "      <td>0</td>\n",
       "      <td>0</td>\n",
       "      <td>0</td>\n",
       "      <td>0</td>\n",
       "      <td>0</td>\n",
       "      <td>0</td>\n",
       "      <td>0</td>\n",
       "      <td>0</td>\n",
       "      <td>1</td>\n",
       "    </tr>\n",
       "    <tr>\n",
       "      <th>3</th>\n",
       "      <td>0</td>\n",
       "      <td>0</td>\n",
       "      <td>0</td>\n",
       "      <td>0</td>\n",
       "      <td>0</td>\n",
       "      <td>0</td>\n",
       "      <td>0</td>\n",
       "      <td>0</td>\n",
       "      <td>0</td>\n",
       "      <td>0</td>\n",
       "      <td>0</td>\n",
       "      <td>1</td>\n",
       "    </tr>\n",
       "    <tr>\n",
       "      <th>4</th>\n",
       "      <td>0</td>\n",
       "      <td>0</td>\n",
       "      <td>0</td>\n",
       "      <td>0</td>\n",
       "      <td>0</td>\n",
       "      <td>0</td>\n",
       "      <td>0</td>\n",
       "      <td>0</td>\n",
       "      <td>0</td>\n",
       "      <td>0</td>\n",
       "      <td>0</td>\n",
       "      <td>1</td>\n",
       "    </tr>\n",
       "    <tr>\n",
       "      <th>...</th>\n",
       "      <td>...</td>\n",
       "      <td>...</td>\n",
       "      <td>...</td>\n",
       "      <td>...</td>\n",
       "      <td>...</td>\n",
       "      <td>...</td>\n",
       "      <td>...</td>\n",
       "      <td>...</td>\n",
       "      <td>...</td>\n",
       "      <td>...</td>\n",
       "      <td>...</td>\n",
       "      <td>...</td>\n",
       "    </tr>\n",
       "    <tr>\n",
       "      <th>1046906</th>\n",
       "      <td>0</td>\n",
       "      <td>0</td>\n",
       "      <td>0</td>\n",
       "      <td>0</td>\n",
       "      <td>0</td>\n",
       "      <td>0</td>\n",
       "      <td>0</td>\n",
       "      <td>1</td>\n",
       "      <td>0</td>\n",
       "      <td>0</td>\n",
       "      <td>0</td>\n",
       "      <td>0</td>\n",
       "    </tr>\n",
       "    <tr>\n",
       "      <th>1046907</th>\n",
       "      <td>0</td>\n",
       "      <td>0</td>\n",
       "      <td>0</td>\n",
       "      <td>0</td>\n",
       "      <td>0</td>\n",
       "      <td>0</td>\n",
       "      <td>0</td>\n",
       "      <td>1</td>\n",
       "      <td>0</td>\n",
       "      <td>0</td>\n",
       "      <td>0</td>\n",
       "      <td>0</td>\n",
       "    </tr>\n",
       "    <tr>\n",
       "      <th>1046908</th>\n",
       "      <td>0</td>\n",
       "      <td>0</td>\n",
       "      <td>0</td>\n",
       "      <td>0</td>\n",
       "      <td>0</td>\n",
       "      <td>0</td>\n",
       "      <td>0</td>\n",
       "      <td>1</td>\n",
       "      <td>0</td>\n",
       "      <td>0</td>\n",
       "      <td>0</td>\n",
       "      <td>0</td>\n",
       "    </tr>\n",
       "    <tr>\n",
       "      <th>1046909</th>\n",
       "      <td>0</td>\n",
       "      <td>0</td>\n",
       "      <td>0</td>\n",
       "      <td>0</td>\n",
       "      <td>0</td>\n",
       "      <td>0</td>\n",
       "      <td>0</td>\n",
       "      <td>1</td>\n",
       "      <td>0</td>\n",
       "      <td>0</td>\n",
       "      <td>0</td>\n",
       "      <td>0</td>\n",
       "    </tr>\n",
       "    <tr>\n",
       "      <th>1046910</th>\n",
       "      <td>0</td>\n",
       "      <td>0</td>\n",
       "      <td>0</td>\n",
       "      <td>0</td>\n",
       "      <td>0</td>\n",
       "      <td>0</td>\n",
       "      <td>0</td>\n",
       "      <td>1</td>\n",
       "      <td>0</td>\n",
       "      <td>0</td>\n",
       "      <td>0</td>\n",
       "      <td>0</td>\n",
       "    </tr>\n",
       "  </tbody>\n",
       "</table>\n",
       "<p>1046911 rows × 12 columns</p>\n",
       "</div>"
      ],
      "text/plain": [
       "         Attack  C&C  C&C-FileDownload  C&C-HeartBeat  \\\n",
       "0             0    0                 0              0   \n",
       "1             0    0                 0              0   \n",
       "2             0    0                 0              0   \n",
       "3             0    0                 0              0   \n",
       "4             0    0                 0              0   \n",
       "...         ...  ...               ...            ...   \n",
       "1046906       0    0                 0              0   \n",
       "1046907       0    0                 0              0   \n",
       "1046908       0    0                 0              0   \n",
       "1046909       0    0                 0              0   \n",
       "1046910       0    0                 0              0   \n",
       "\n",
       "         C&C-HeartBeat-FileDownload  C&C-Mirai  C&C-Torii  DDoS  FileDownload  \\\n",
       "0                                 0          0          0     0             0   \n",
       "1                                 0          0          0     0             0   \n",
       "2                                 0          0          0     0             0   \n",
       "3                                 0          0          0     0             0   \n",
       "4                                 0          0          0     0             0   \n",
       "...                             ...        ...        ...   ...           ...   \n",
       "1046906                           0          0          0     1             0   \n",
       "1046907                           0          0          0     1             0   \n",
       "1046908                           0          0          0     1             0   \n",
       "1046909                           0          0          0     1             0   \n",
       "1046910                           0          0          0     1             0   \n",
       "\n",
       "         Okiru  PartOfAHorizontalPortScan  benign  \n",
       "0            0                          0       1  \n",
       "1            0                          0       1  \n",
       "2            0                          0       1  \n",
       "3            0                          0       1  \n",
       "4            0                          0       1  \n",
       "...        ...                        ...     ...  \n",
       "1046906      0                          0       0  \n",
       "1046907      0                          0       0  \n",
       "1046908      0                          0       0  \n",
       "1046909      0                          0       0  \n",
       "1046910      0                          0       0  \n",
       "\n",
       "[1046911 rows x 12 columns]"
      ]
     },
     "execution_count": 13,
     "metadata": {},
     "output_type": "execute_result"
    }
   ],
   "source": [
    "y"
   ]
  },
  {
   "cell_type": "code",
   "execution_count": 14,
   "id": "a642c99c",
   "metadata": {},
   "outputs": [],
   "source": [
    "import tensorflow as tf\n",
    "from tensorflow.keras.models import Sequential\n",
    "from tensorflow.keras.layers import Dense, Conv2D, MaxPooling2D, Flatten, Dropout"
   ]
  },
  {
   "cell_type": "markdown",
   "id": "f166c96e",
   "metadata": {},
   "source": [
    "### Splitting the X and y Dataset into the Training set and Test set:"
   ]
  },
  {
   "cell_type": "code",
   "execution_count": 15,
   "id": "f90923f7",
   "metadata": {},
   "outputs": [],
   "source": [
    "from sklearn.model_selection import train_test_split\n",
    "X_train, X_test, y_train, y_test = train_test_split(X, y, test_size = 0.20, random_state = 1)"
   ]
  },
  {
   "cell_type": "code",
   "execution_count": 16,
   "id": "99604cfb",
   "metadata": {},
   "outputs": [
    {
     "name": "stdout",
     "output_type": "stream",
     "text": [
      "(837528, 12)\n",
      "(209383, 12)\n",
      "(837528, 24)\n",
      "(209383, 24)\n"
     ]
    }
   ],
   "source": [
    "print(y_train.shape)\n",
    "print(y_test.shape)\n",
    "print(X_train.shape)\n",
    "print(X_test.shape)"
   ]
  },
  {
   "cell_type": "markdown",
   "id": "7447949b",
   "metadata": {},
   "source": [
    "## Normalizing the data:"
   ]
  },
  {
   "cell_type": "code",
   "execution_count": 17,
   "id": "18d49c98",
   "metadata": {},
   "outputs": [],
   "source": [
    "X_train = X_train / 255.0\n",
    "X_test = X_test / 255.0"
   ]
  },
  {
   "cell_type": "code",
   "execution_count": 18,
   "id": "6f258850",
   "metadata": {},
   "outputs": [
    {
     "name": "stdout",
     "output_type": "stream",
     "text": [
      "(837528, 12)\n",
      "(209383, 12)\n",
      "(837528, 24)\n",
      "(209383, 24)\n"
     ]
    }
   ],
   "source": [
    "print(y_train.shape)\n",
    "print(y_test.shape)\n",
    "print(X_train.shape)\n",
    "print(X_test.shape)"
   ]
  },
  {
   "cell_type": "markdown",
   "id": "79beb5b8",
   "metadata": {},
   "source": [
    "## Define the model:"
   ]
  },
  {
   "cell_type": "code",
   "execution_count": 19,
   "id": "78a4caf9",
   "metadata": {},
   "outputs": [],
   "source": [
    "CNN_model = Sequential()"
   ]
  },
  {
   "cell_type": "markdown",
   "id": "b69fc57a",
   "metadata": {},
   "source": [
    "## Adding Layers:"
   ]
  },
  {
   "cell_type": "code",
   "execution_count": 20,
   "id": "4c02b12a",
   "metadata": {},
   "outputs": [],
   "source": [
    "CNN_model.add(Dense(2000, activation='relu',input_dim=24))\n",
    "CNN_model.add(Dense(1500, activation='relu'))\n",
    "CNN_model.add(Dropout(0.5))\n",
    "CNN_model.add(Dense(800,activation='relu'))\n",
    "CNN_model.add(Dropout(0.5))\n",
    "CNN_model.add(Dense(400,activation='relu'))\n",
    "CNN_model.add(Dropout(0.5))\n",
    "CNN_model.add(Dense(150,activation='relu'))\n",
    "CNN_model.add(Dropout(0.5))\n",
    "CNN_model.add(Dense(12, activation='softmax'))\n",
    "\n"
   ]
  },
  {
   "cell_type": "markdown",
   "id": "2339e8f0",
   "metadata": {},
   "source": [
    "## Compiling the Model:"
   ]
  },
  {
   "cell_type": "code",
   "execution_count": 21,
   "id": "ad78570b",
   "metadata": {},
   "outputs": [],
   "source": [
    "CNN_model.compile(loss='categorical_crossentropy', optimizer='adam', metrics=['acc'])"
   ]
  },
  {
   "cell_type": "code",
   "execution_count": 22,
   "id": "1fe96bb4",
   "metadata": {},
   "outputs": [
    {
     "name": "stdout",
     "output_type": "stream",
     "text": [
      "Model: \"sequential\"\n",
      "_________________________________________________________________\n",
      " Layer (type)                Output Shape              Param #   \n",
      "=================================================================\n",
      " dense (Dense)               (None, 2000)              50000     \n",
      "                                                                 \n",
      " dense_1 (Dense)             (None, 1500)              3001500   \n",
      "                                                                 \n",
      " dropout (Dropout)           (None, 1500)              0         \n",
      "                                                                 \n",
      " dense_2 (Dense)             (None, 800)               1200800   \n",
      "                                                                 \n",
      " dropout_1 (Dropout)         (None, 800)               0         \n",
      "                                                                 \n",
      " dense_3 (Dense)             (None, 400)               320400    \n",
      "                                                                 \n",
      " dropout_2 (Dropout)         (None, 400)               0         \n",
      "                                                                 \n",
      " dense_4 (Dense)             (None, 150)               60150     \n",
      "                                                                 \n",
      " dropout_3 (Dropout)         (None, 150)               0         \n",
      "                                                                 \n",
      " dense_5 (Dense)             (None, 12)                1812      \n",
      "                                                                 \n",
      "=================================================================\n",
      "Total params: 4,634,662\n",
      "Trainable params: 4,634,662\n",
      "Non-trainable params: 0\n",
      "_________________________________________________________________\n"
     ]
    }
   ],
   "source": [
    "CNN_model.summary()"
   ]
  },
  {
   "cell_type": "markdown",
   "id": "358e7ff8",
   "metadata": {},
   "source": [
    "## Training the model"
   ]
  },
  {
   "cell_type": "code",
   "execution_count": 23,
   "id": "b77b04a1",
   "metadata": {},
   "outputs": [
    {
     "name": "stdout",
     "output_type": "stream",
     "text": [
      "Epoch 1/10\n",
      "6544/6544 [==============================] - 679s 103ms/step - loss: 62.6346 - acc: 0.8600 - val_loss: 0.2719 - val_acc: 0.8742\n",
      "Epoch 2/10\n",
      "6544/6544 [==============================] - 646s 99ms/step - loss: 9.9091 - acc: 0.8810 - val_loss: 4.8536 - val_acc: 0.8769\n",
      "Epoch 3/10\n",
      "6544/6544 [==============================] - 504s 77ms/step - loss: 1.3089 - acc: 0.8865 - val_loss: 0.2655 - val_acc: 0.8753\n",
      "Epoch 4/10\n",
      "6544/6544 [==============================] - 490s 75ms/step - loss: 2.6241 - acc: 0.8928 - val_loss: 0.2660 - val_acc: 0.8777\n",
      "Epoch 5/10\n",
      "6544/6544 [==============================] - 419s 64ms/step - loss: 1.0608 - acc: 0.8859 - val_loss: 0.2691 - val_acc: 0.8782\n",
      "Epoch 6/10\n",
      "6544/6544 [==============================] - 418s 64ms/step - loss: 94.3940 - acc: 0.8854 - val_loss: 0.2555 - val_acc: 0.8939\n",
      "Epoch 7/10\n",
      "6544/6544 [==============================] - 421s 64ms/step - loss: 1.5849 - acc: 0.8845 - val_loss: 0.2644 - val_acc: 0.8790\n",
      "Epoch 8/10\n",
      "6544/6544 [==============================] - 427s 65ms/step - loss: 37.7309 - acc: 0.8842 - val_loss: 0.2842 - val_acc: 0.8787\n",
      "Epoch 9/10\n",
      "6544/6544 [==============================] - 425s 65ms/step - loss: 0.2674 - acc: 0.8846 - val_loss: 0.2666 - val_acc: 0.8789\n",
      "Epoch 10/10\n",
      "6544/6544 [==============================] - 419s 64ms/step - loss: 0.2665 - acc: 0.8862 - val_loss: 0.2624 - val_acc: 0.8797\n"
     ]
    }
   ],
   "source": [
    "history = CNN_model.fit(X_train, y_train, epochs=10, batch_size=128, validation_data=(X_test, y_test))"
   ]
  },
  {
   "cell_type": "markdown",
   "id": "a174be42",
   "metadata": {},
   "source": [
    "## Evaluating the model:"
   ]
  },
  {
   "cell_type": "code",
   "execution_count": 24,
   "id": "a92e9728",
   "metadata": {},
   "outputs": [
    {
     "name": "stdout",
     "output_type": "stream",
     "text": [
      "1636/1636 [==============================] - 19s 11ms/step - loss: 0.2624 - acc: 0.8797\n",
      "testing loss, testing accuracy:\n",
      "[0.26243463158607483, 0.879679799079895]\n"
     ]
    }
   ],
   "source": [
    "testing_results = CNN_model.evaluate(X_test, y_test, batch_size=128)\n",
    "print(\"testing loss, testing accuracy:\")\n",
    "print(testing_results)\n"
   ]
  },
  {
   "cell_type": "code",
   "execution_count": 25,
   "id": "a51aafdc",
   "metadata": {},
   "outputs": [
    {
     "name": "stdout",
     "output_type": "stream",
     "text": [
      "6544/6544 [==============================] - 76s 12ms/step - loss: 0.2507 - acc: 0.8805\n",
      "training loss, training accuracy:\n",
      "[0.25068286061286926, 0.8805055022239685]\n"
     ]
    }
   ],
   "source": [
    "training_results = CNN_model.evaluate(X_train, y_train, batch_size=128)\n",
    "print(\"training loss, training accuracy:\")\n",
    "print(training_results)"
   ]
  },
  {
   "cell_type": "code",
   "execution_count": 27,
   "id": "c3286adf",
   "metadata": {},
   "outputs": [
    {
     "data": {
      "image/png": "[encoded data removed]",
      "text/plain": [
       "<Figure size 432x288 with 1 Axes>"
      ]
     },
     "metadata": {
      "needs_background": "light"
     },
     "output_type": "display_data"
    }
   ],
   "source": [
    "import matplotlib.pyplot as plt\n",
    "plt.plot(history.history['acc'])\n",
    "plt.plot(history.history['val_acc'])\n",
    "plt.title('model accuracy')\n",
    "plt.ylabel('accuracy')\n",
    "plt.xlabel('epoch')\n",
    "plt.legend(['train', 'test'], loc='upper left')\n",
    "plt.show()"
   ]
  },
  {
   "cell_type": "code",
   "execution_count": 28,
   "id": "6b6420e0",
   "metadata": {},
   "outputs": [
    {
     "data": {
      "image/png": "[encoded data removed]",
      "text/plain": [
       "<Figure size 432x288 with 1 Axes>"
      ]
     },
     "metadata": {
      "needs_background": "light"
     },
     "output_type": "display_data"
    }
   ],
   "source": [
    "plt.plot(history.history['loss'])\n",
    "plt.plot(history.history['val_loss'])\n",
    "plt.title('model loss')\n",
    "plt.ylabel('loss')\n",
    "plt.xlabel('epoch')\n",
    "plt.legend(['train', 'test'], loc='upper left')\n",
    "plt.show()"
   ]
  },
  {
   "cell_type": "code",
   "execution_count": 29,
   "id": "956fd072",
   "metadata": {},
   "outputs": [
    {
     "name": "stdout",
     "output_type": "stream",
     "text": [
      "6544/6544 [==============================] - 59s 9ms/step\n"
     ]
    }
   ],
   "source": [
    "##Predict the response for test dataset\n",
    "CNN_pred=CNN_model.predict(X_test)\n"
   ]
  },
  {
   "cell_type": "code",
   "execution_count": 30,
   "id": "a0de4a40",
   "metadata": {},
   "outputs": [],
   "source": [
    "CNN_pred = np.argmax(CNN_pred, axis=1)"
   ]
  },
  {
   "cell_type": "code",
   "execution_count": 31,
   "id": "44825190",
   "metadata": {},
   "outputs": [],
   "source": [
    "y_test = np.resize(y_test, (209383, 12))"
   ]
  },
  {
   "cell_type": "code",
   "execution_count": 32,
   "id": "1180cb03",
   "metadata": {},
   "outputs": [],
   "source": [
    "y_test=np.argmax(y_test, axis=1)"
   ]
  },
  {
   "cell_type": "code",
   "execution_count": 33,
   "id": "99c21e7b",
   "metadata": {},
   "outputs": [
    {
     "name": "stdout",
     "output_type": "stream",
     "text": [
      "[[   780      0      0      0      0      0      0      0      0      0\n",
      "       1     22]\n",
      " [     4    437      0      0      0      0      0      0      0      0\n",
      "    1585    954]\n",
      " [     2      0      0      0      0      0      0      0      0      0\n",
      "       0      0]\n",
      " [    11      0      0      0      0      0      0      0      0      0\n",
      "      26     35]\n",
      " [     1      0      0      0      0      0      0      0      0      0\n",
      "       0      0]\n",
      " [     0      0      0      0      0      0      0      0      0      0\n",
      "       1      0]\n",
      " [     0      0      0      0      0      0      0      0      0      0\n",
      "       3      2]\n",
      " [     6      0      0      0      0      0      0  22629      0     20\n",
      "       1      0]\n",
      " [     1      0      0      0      0      0      0      0      0      0\n",
      "       0      0]\n",
      " [   133      0      0      0      0      0      0      0      0  39675\n",
      "      48      1]\n",
      " [   152     51      0      0      0      0      0      0      0   3038\n",
      "  105513    819]\n",
      " [   210    217      0      0      0      0      0      8      0     21\n",
      "   17820  15156]]\n"
     ]
    }
   ],
   "source": [
    "## Confusion Matrix\n",
    "from sklearn.metrics import confusion_matrix\n",
    "cm = confusion_matrix(y_test, CNN_pred)\n",
    "print(cm)"
   ]
  },
  {
   "cell_type": "code",
   "execution_count": 34,
   "id": "4f1397b1",
   "metadata": {},
   "outputs": [
    {
     "name": "stdout",
     "output_type": "stream",
     "text": [
      "              precision    recall  f1-score   support\n",
      "\n",
      "           0       0.60      0.97      0.74       803\n",
      "           1       0.62      0.15      0.24      2980\n",
      "           2       0.00      0.00      0.00         2\n",
      "           3       0.00      0.00      0.00        72\n",
      "           4       0.00      0.00      0.00         1\n",
      "           5       0.00      0.00      0.00         1\n",
      "           6       0.00      0.00      0.00         5\n",
      "           7       1.00      1.00      1.00     22656\n",
      "           8       0.00      0.00      0.00         1\n",
      "           9       0.93      1.00      0.96     39857\n",
      "          10       0.84      0.96      0.90    109573\n",
      "          11       0.89      0.45      0.60     33432\n",
      "\n",
      "    accuracy                           0.88    209383\n",
      "   macro avg       0.41      0.38      0.37    209383\n",
      "weighted avg       0.88      0.88      0.86    209383\n",
      "\n"
     ]
    }
   ],
   "source": [
    "### Final Results\n",
    "from sklearn.metrics import classification_report\n",
    "print(classification_report(y_test,CNN_pred,zero_division=0))"
   ]
  },
  {
   "cell_type": "code",
   "execution_count": null,
   "id": "0868ec84",
   "metadata": {},
   "outputs": [],
   "source": []
  },
  {
   "cell_type": "code",
   "execution_count": null,
   "id": "319e7ff4",
   "metadata": {},
   "outputs": [],
   "source": []
  },
  {
   "cell_type": "code",
   "execution_count": null,
   "id": "576a16a7",
   "metadata": {},
   "outputs": [],
   "source": []
  },
  {
   "cell_type": "code",
   "execution_count": null,
   "id": "360de16f",
   "metadata": {},
   "outputs": [],
   "source": []
  }
 ],
 "metadata": {
  "kernelspec": {
   "display_name": "Python 3 (ipykernel)",
   "language": "python",
   "name": "python3"
  },
  "language_info": {
   "codemirror_mode": {
    "name": "ipython",
    "version": 3
   },
   "file_extension": ".py",
   "mimetype": "text/x-python",
   "name": "python",
   "nbconvert_exporter": "python",
   "pygments_lexer": "ipython3",
   "version": "3.9.7"
  }
 },
 "nbformat": 4,
 "nbformat_minor": 5
}
